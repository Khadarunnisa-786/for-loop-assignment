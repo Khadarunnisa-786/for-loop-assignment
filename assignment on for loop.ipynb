{
 "cells": [
  {
   "cell_type": "markdown",
   "id": "06832603-502e-4344-aff1-cdc5ad348738",
   "metadata": {},
   "source": [
    "1. Filter Floats from a List\n",
    "Write a program that extracts all the floating-point numbers from a list containing mixed data types. The program should create a new list containing only the floats."
   ]
  },
  {
   "cell_type": "code",
   "execution_count": null,
   "id": "6dc36b6b-5e24-4683-82fd-6c0db436f967",
   "metadata": {},
   "outputs": [],
   "source": [
    "l = [12.5, 45, \"hello\", 23.0, 56.78, 90, \"world\"]\n",
    "l1 = []\n",
    "\n",
    "for i in l:\n",
    "    if type(i) == float:\n",
    "        l1.append(i)\n",
    "print(l1)"
   ]
  },
  {
   "cell_type": "markdown",
   "id": "fa2c3f62-2213-4023-8e65-38d9a8e71ce5",
   "metadata": {},
   "source": [
    "2. Filter Strings from a List\n",
    "Write a program to extract all the string elements from a mixed list and store them in a new list."
   ]
  },
  {
   "cell_type": "code",
   "execution_count": 5,
   "id": "e795489e-2989-41db-9912-a7a857f8b23c",
   "metadata": {},
   "outputs": [
    {
     "name": "stdout",
     "output_type": "stream",
     "text": [
      "['Python', 'Coding', 'AI']\n"
     ]
    }
   ],
   "source": [
    "l = [1, \"Python\", 3.14, \"Coding\", 42, \"AI\"]\n",
    "l1 = []\n",
    "\n",
    "for i in l:\n",
    "    if type(i) == str:\n",
    "        l1.append(i)\n",
    "print(l1)\n"
   ]
  },
  {
   "cell_type": "markdown",
   "id": "4a9cbdbf-535c-4f95-8b8b-3b4af4568a80",
   "metadata": {},
   "source": [
    "3. Filter Non-Integers from a List\n",
    "Write a program to create a new list that contains all elements from a given list except for integers."
   ]
  },
  {
   "cell_type": "code",
   "execution_count": 11,
   "id": "db51a2bb-88d3-4bef-b8f6-d8e439334839",
   "metadata": {},
   "outputs": [
    {
     "name": "stdout",
     "output_type": "stream",
     "text": [
      "['data', 4.5, True, None]\n"
     ]
    }
   ],
   "source": [
    "l = [1, 2, 3, \"data\", 4.5, True, None]\n",
    "l1 = []\n",
    "\n",
    "for i in l:\n",
    "       l1 = [item for item in l if not (isinstance(item, int) and not isinstance(item, bool))]\n",
    "\n",
    "print(l1)\n"
   ]
  },
  {
   "cell_type": "markdown",
   "id": "d1dfe8f3-6b73-4b89-a978-d020b311dd10",
   "metadata": {},
   "source": [
    "4. Filter Boolean Values from a List\n",
    "Write a program to extract all the boolean values (True or False) from a mixed list.\n"
   ]
  },
  {
   "cell_type": "code",
   "execution_count": 12,
   "id": "125950fb-e1a3-415b-8710-14ccaceeb5c6",
   "metadata": {},
   "outputs": [
    {
     "name": "stdout",
     "output_type": "stream",
     "text": [
      "[True, False]\n"
     ]
    }
   ],
   "source": [
    "l = [True, 42, \"yes\", False, 3.14, \"AI\"]\n",
    "l1 = []\n",
    "\n",
    "for i in l:\n",
    "    if type(i) == bool:\n",
    "        l1.append(i)\n",
    "print(l1)\n"
   ]
  },
  {
   "cell_type": "markdown",
   "id": "9609aa8b-915f-4e72-910a-93c5c6b1e29d",
   "metadata": {},
   "source": [
    "5. Filter Even Integers from a List\n",
    "Write a program that filters only the even integers from a mixed list and stores them in a new list."
   ]
  },
  {
   "cell_type": "code",
   "execution_count": 13,
   "id": "dad2dcec-1839-48dc-b843-ef98815c9bb6",
   "metadata": {},
   "outputs": [
    {
     "name": "stdout",
     "output_type": "stream",
     "text": [
      "[2, 4, 6]\n"
     ]
    }
   ],
   "source": [
    "l = [1, 2, 3, 4, 5, 6, \"even\", 7.8]\n",
    "l1 = [item for item in l if isinstance(item, int) and item % 2 == 0]\n",
    "print(l1)"
   ]
  },
  {
   "cell_type": "markdown",
   "id": "515ccafd-778b-4bb7-8d59-9483aec41f96",
   "metadata": {},
   "source": [
    "6. Filter Odd Integers from a List\n",
    "Write a program that extracts only the odd integers from a mixed list into a new list."
   ]
  },
  {
   "cell_type": "code",
   "execution_count": 19,
   "id": "68dc405b-23de-4e30-9439-18348ab88dac",
   "metadata": {},
   "outputs": [
    {
     "name": "stdout",
     "output_type": "stream",
     "text": [
      "[21, 43, 65]\n"
     ]
    }
   ],
   "source": [
    "l = [10, 21, 32, 43, \"odd\", 54, 65]\n",
    "l1 = [item for item in l if isinstance(item, int) and item % 2 != 0]\n",
    "print(l1)"
   ]
  },
  {
   "cell_type": "markdown",
   "id": "c7e2cbb4-bb21-4e65-9090-bda3d52ee9d7",
   "metadata": {},
   "source": [
    "7. Filter Elements of a Specific Length\n",
    "Write a program to filter all string elements with a length greater than 4 characters from a mixed list."
   ]
  },
  {
   "cell_type": "code",
   "execution_count": 17,
   "id": "49b9c111-af70-4a89-8494-6d5f03fb10a3",
   "metadata": {},
   "outputs": [
    {
     "name": "stdout",
     "output_type": "stream",
     "text": [
      "['apple', 'hello']\n"
     ]
    }
   ],
   "source": [
    "l = [\"apple\", \"AI\", 123, \"data\", \"hello\", 3.14]\n",
    "l1 = [item for item in l if isinstance(item, str) and len(item) > 4]\n",
    "print(l1)"
   ]
  },
  {
   "cell_type": "markdown",
   "id": "7b772114-8d4a-4d97-aed3-47b3d0cdbc5c",
   "metadata": {},
   "source": [
    "8. Filter None Values\n",
    "Write a program to remove all None values from a mixed list and store the remaining elements in a new list."
   ]
  },
  {
   "cell_type": "code",
   "execution_count": 18,
   "id": "29e7cbc5-872a-47e8-9108-e07e373b1e7e",
   "metadata": {},
   "outputs": [
    {
     "name": "stdout",
     "output_type": "stream",
     "text": [
      "[1, 'Python', 45.6, 'data']\n"
     ]
    }
   ],
   "source": [
    "l = [1, None, \"Python\", None, 45.6, \"data\"]\n",
    "l1 = [item for item in l if item is not None]\n",
    "print(l1)"
   ]
  },
  {
   "cell_type": "markdown",
   "id": "8eb25811-70ab-4571-934c-42d31595a5dd",
   "metadata": {},
   "source": [
    "9. Filter Alphabetic Strings Only\n",
    "Write a program that extracts only alphabetic strings (strings without numbers or special characters) from a mixed list."
   ]
  },
  {
   "cell_type": "code",
   "execution_count": 20,
   "id": "83006042-bab6-4491-871b-b34a39885f9e",
   "metadata": {},
   "outputs": [
    {
     "name": "stdout",
     "output_type": "stream",
     "text": [
      "['AI', 'world']\n"
     ]
    }
   ],
   "source": [
    "l = [\"AI\", \"Data123\", \"hello!\", \"world\", 42, \"Python3\"]\n",
    "l1 = [item for item in l if isinstance(item, str) and item.isalpha()]\n",
    "print(l1)"
   ]
  },
  {
   "cell_type": "markdown",
   "id": "c0423c0e-e68e-4ea9-843e-21c9c2c280a9",
   "metadata": {},
   "source": [
    "10. Filter Elements of Specific Data Type\n",
    "Write a program that asks the user to input a data type (e.g., int, float, str) and filters elements of that type from a given mixed list."
   ]
  },
  {
   "cell_type": "code",
   "execution_count": 21,
   "id": "bb9609a3-4d96-46d6-9081-76a028738166",
   "metadata": {},
   "outputs": [
    {
     "name": "stdout",
     "output_type": "stream",
     "text": [
      "[2.5, 4.0]\n"
     ]
    }
   ],
   "source": [
    "l = [1, 2.5, \"hello\", 3, 4.0, \"world\"]\n",
    "l1 = []\n",
    "\n",
    "for i in l:\n",
    "    if type(i) == float:\n",
    "        l1.append(i)\n",
    "print(l1)\n"
   ]
  },
  {
   "cell_type": "code",
   "execution_count": null,
   "id": "d45fc866-db5f-4fe5-9e93-a15fa3542795",
   "metadata": {},
   "outputs": [],
   "source": []
  }
 ],
 "metadata": {
  "kernelspec": {
   "display_name": "Python 3 (ipykernel)",
   "language": "python",
   "name": "python3"
  },
  "language_info": {
   "codemirror_mode": {
    "name": "ipython",
    "version": 3
   },
   "file_extension": ".py",
   "mimetype": "text/x-python",
   "name": "python",
   "nbconvert_exporter": "python",
   "pygments_lexer": "ipython3",
   "version": "3.13.5"
  }
 },
 "nbformat": 4,
 "nbformat_minor": 5
}
